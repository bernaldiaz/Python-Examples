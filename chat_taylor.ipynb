{
  "nbformat": 4,
  "nbformat_minor": 0,
  "metadata": {
    "colab": {
      "provenance": [],
      "authorship_tag": "ABX9TyMs7Ea/0IjWSNzzTqvAw23W",
      "include_colab_link": true
    },
    "kernelspec": {
      "name": "python3",
      "display_name": "Python 3"
    },
    "language_info": {
      "name": "python"
    }
  },
  "cells": [
    {
      "cell_type": "markdown",
      "metadata": {
        "id": "view-in-github",
        "colab_type": "text"
      },
      "source": [
        "<a href=\"https://colab.research.google.com/github/bernaldiaz/Python-Examples/blob/master/chat_taylor.ipynb\" target=\"_parent\"><img src=\"https://colab.research.google.com/assets/colab-badge.svg\" alt=\"Open In Colab\"/></a>"
      ]
    },
    {
      "cell_type": "code",
      "execution_count": 1,
      "metadata": {
        "colab": {
          "base_uri": "https://localhost:8080/"
        },
        "id": "Y1hfV0B9mcAu",
        "outputId": "b489db9d-7aa1-4181-c392-8979c3734cb8"
      },
      "outputs": [
        {
          "output_type": "stream",
          "name": "stdout",
          "text": [
            "-x**3/6 + x\n"
          ]
        }
      ],
      "source": [
        "import sympy as sp\n",
        "\n",
        "# Definir la variable simbólica\n",
        "x = sp.Symbol('x')\n",
        "\n",
        "# Definir la función para la cual quieres calcular el polinomio de Taylor\n",
        "funcion = sp.sin(x)\n",
        "\n",
        "# Calcular el polinomio de Taylor de la función alrededor del punto x = 0, con un grado de aproximación de 4\n",
        "polinomio_taylor = funcion.series(x, 0, 4).removeO()\n",
        "\n",
        "# Imprimir el polinomio de Taylor resultante\n",
        "print(polinomio_taylor)\n"
      ]
    }
  ]
}